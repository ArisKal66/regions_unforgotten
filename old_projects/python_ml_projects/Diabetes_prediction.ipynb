{
 "cells": [
  {
   "cell_type": "markdown",
   "id": "065fd499",
   "metadata": {},
   "source": [
    "### Dimensions, peek at the data and Statistical summary"
   ]
  },
  {
   "cell_type": "code",
   "execution_count": 55,
   "id": "687b15c1",
   "metadata": {},
   "outputs": [
    {
     "name": "stdout",
     "output_type": "stream",
     "text": [
      "(442, 10) \n",
      "\n",
      "age    float64\n",
      "sex    float64\n",
      "bmi    float64\n",
      "bp     float64\n",
      "s1     float64\n",
      "s2     float64\n",
      "s3     float64\n",
      "s4     float64\n",
      "s5     float64\n",
      "s6     float64\n",
      "dtype: object \n",
      "\n"
     ]
    }
   ],
   "source": [
    "import numpy as np\n",
    "import pandas as pd\n",
    "import matplotlib.pyplot as plt\n",
    "%matplotlib inline\n",
    "import seaborn as sns\n",
    "from sklearn.datasets import load_diabetes\n",
    "\n",
    "diabet = load_diabetes()\n",
    "df_diabet = pd.DataFrame(diabet.data, columns = [diabet.feature_names])\n",
    "df_diabet_trgt = pd.DataFrame(diabet.data, columns = [diabet.feature_names])\n",
    "df_diabet_trgt['target'] = pd.DataFrame(diabet.target, columns = ['target'])\n",
    "df_trg = pd.DataFrame(diabet.target, columns = ['target'])\n",
    "pd.set_option('precision', 4)\n",
    "\n",
    "print (df_diabet.shape, '\\n')\n",
    "print (df_diabet.dtypes, '\\n')"
   ]
  },
  {
   "cell_type": "code",
   "execution_count": 56,
   "id": "704bb346",
   "metadata": {},
   "outputs": [
    {
     "data": {
      "text/html": [
       "<div>\n",
       "<style scoped>\n",
       "    .dataframe tbody tr th:only-of-type {\n",
       "        vertical-align: middle;\n",
       "    }\n",
       "\n",
       "    .dataframe tbody tr th {\n",
       "        vertical-align: top;\n",
       "    }\n",
       "\n",
       "    .dataframe thead tr th {\n",
       "        text-align: left;\n",
       "    }\n",
       "</style>\n",
       "<table border=\"1\" class=\"dataframe\">\n",
       "  <thead>\n",
       "    <tr>\n",
       "      <th></th>\n",
       "      <th>age</th>\n",
       "      <th>sex</th>\n",
       "      <th>bmi</th>\n",
       "      <th>bp</th>\n",
       "      <th>s1</th>\n",
       "      <th>s2</th>\n",
       "      <th>s3</th>\n",
       "      <th>s4</th>\n",
       "      <th>s5</th>\n",
       "      <th>s6</th>\n",
       "      <th>target</th>\n",
       "    </tr>\n",
       "  </thead>\n",
       "  <tbody>\n",
       "    <tr>\n",
       "      <th>0</th>\n",
       "      <td>0.0381</td>\n",
       "      <td>0.0507</td>\n",
       "      <td>0.0617</td>\n",
       "      <td>0.0219</td>\n",
       "      <td>-0.0442</td>\n",
       "      <td>-0.0348</td>\n",
       "      <td>-0.0434</td>\n",
       "      <td>-0.0026</td>\n",
       "      <td>0.0199</td>\n",
       "      <td>-0.0176</td>\n",
       "      <td>151.0</td>\n",
       "    </tr>\n",
       "    <tr>\n",
       "      <th>1</th>\n",
       "      <td>-0.0019</td>\n",
       "      <td>-0.0446</td>\n",
       "      <td>-0.0515</td>\n",
       "      <td>-0.0263</td>\n",
       "      <td>-0.0084</td>\n",
       "      <td>-0.0192</td>\n",
       "      <td>0.0744</td>\n",
       "      <td>-0.0395</td>\n",
       "      <td>-0.0683</td>\n",
       "      <td>-0.0922</td>\n",
       "      <td>75.0</td>\n",
       "    </tr>\n",
       "    <tr>\n",
       "      <th>2</th>\n",
       "      <td>0.0853</td>\n",
       "      <td>0.0507</td>\n",
       "      <td>0.0445</td>\n",
       "      <td>-0.0057</td>\n",
       "      <td>-0.0456</td>\n",
       "      <td>-0.0342</td>\n",
       "      <td>-0.0324</td>\n",
       "      <td>-0.0026</td>\n",
       "      <td>0.0029</td>\n",
       "      <td>-0.0259</td>\n",
       "      <td>141.0</td>\n",
       "    </tr>\n",
       "    <tr>\n",
       "      <th>3</th>\n",
       "      <td>-0.0891</td>\n",
       "      <td>-0.0446</td>\n",
       "      <td>-0.0116</td>\n",
       "      <td>-0.0367</td>\n",
       "      <td>0.0122</td>\n",
       "      <td>0.0250</td>\n",
       "      <td>-0.0360</td>\n",
       "      <td>0.0343</td>\n",
       "      <td>0.0227</td>\n",
       "      <td>-0.0094</td>\n",
       "      <td>206.0</td>\n",
       "    </tr>\n",
       "    <tr>\n",
       "      <th>4</th>\n",
       "      <td>0.0054</td>\n",
       "      <td>-0.0446</td>\n",
       "      <td>-0.0364</td>\n",
       "      <td>0.0219</td>\n",
       "      <td>0.0039</td>\n",
       "      <td>0.0156</td>\n",
       "      <td>0.0081</td>\n",
       "      <td>-0.0026</td>\n",
       "      <td>-0.0320</td>\n",
       "      <td>-0.0466</td>\n",
       "      <td>135.0</td>\n",
       "    </tr>\n",
       "    <tr>\n",
       "      <th>...</th>\n",
       "      <td>...</td>\n",
       "      <td>...</td>\n",
       "      <td>...</td>\n",
       "      <td>...</td>\n",
       "      <td>...</td>\n",
       "      <td>...</td>\n",
       "      <td>...</td>\n",
       "      <td>...</td>\n",
       "      <td>...</td>\n",
       "      <td>...</td>\n",
       "      <td>...</td>\n",
       "    </tr>\n",
       "    <tr>\n",
       "      <th>437</th>\n",
       "      <td>0.0417</td>\n",
       "      <td>0.0507</td>\n",
       "      <td>0.0197</td>\n",
       "      <td>0.0597</td>\n",
       "      <td>-0.0057</td>\n",
       "      <td>-0.0026</td>\n",
       "      <td>-0.0287</td>\n",
       "      <td>-0.0026</td>\n",
       "      <td>0.0312</td>\n",
       "      <td>0.0072</td>\n",
       "      <td>178.0</td>\n",
       "    </tr>\n",
       "    <tr>\n",
       "      <th>438</th>\n",
       "      <td>-0.0055</td>\n",
       "      <td>0.0507</td>\n",
       "      <td>-0.0159</td>\n",
       "      <td>-0.0676</td>\n",
       "      <td>0.0493</td>\n",
       "      <td>0.0792</td>\n",
       "      <td>-0.0287</td>\n",
       "      <td>0.0343</td>\n",
       "      <td>-0.0181</td>\n",
       "      <td>0.0445</td>\n",
       "      <td>104.0</td>\n",
       "    </tr>\n",
       "    <tr>\n",
       "      <th>439</th>\n",
       "      <td>0.0417</td>\n",
       "      <td>0.0507</td>\n",
       "      <td>-0.0159</td>\n",
       "      <td>0.0173</td>\n",
       "      <td>-0.0373</td>\n",
       "      <td>-0.0138</td>\n",
       "      <td>-0.0250</td>\n",
       "      <td>-0.0111</td>\n",
       "      <td>-0.0469</td>\n",
       "      <td>0.0155</td>\n",
       "      <td>132.0</td>\n",
       "    </tr>\n",
       "    <tr>\n",
       "      <th>440</th>\n",
       "      <td>-0.0455</td>\n",
       "      <td>-0.0446</td>\n",
       "      <td>0.0391</td>\n",
       "      <td>0.0012</td>\n",
       "      <td>0.0163</td>\n",
       "      <td>0.0153</td>\n",
       "      <td>-0.0287</td>\n",
       "      <td>0.0266</td>\n",
       "      <td>0.0445</td>\n",
       "      <td>-0.0259</td>\n",
       "      <td>220.0</td>\n",
       "    </tr>\n",
       "    <tr>\n",
       "      <th>441</th>\n",
       "      <td>-0.0455</td>\n",
       "      <td>-0.0446</td>\n",
       "      <td>-0.0730</td>\n",
       "      <td>-0.0814</td>\n",
       "      <td>0.0837</td>\n",
       "      <td>0.0278</td>\n",
       "      <td>0.1738</td>\n",
       "      <td>-0.0395</td>\n",
       "      <td>-0.0042</td>\n",
       "      <td>0.0031</td>\n",
       "      <td>57.0</td>\n",
       "    </tr>\n",
       "  </tbody>\n",
       "</table>\n",
       "<p>442 rows × 11 columns</p>\n",
       "</div>"
      ],
      "text/plain": [
       "        age     sex     bmi      bp      s1      s2      s3      s4      s5  \\\n",
       "0    0.0381  0.0507  0.0617  0.0219 -0.0442 -0.0348 -0.0434 -0.0026  0.0199   \n",
       "1   -0.0019 -0.0446 -0.0515 -0.0263 -0.0084 -0.0192  0.0744 -0.0395 -0.0683   \n",
       "2    0.0853  0.0507  0.0445 -0.0057 -0.0456 -0.0342 -0.0324 -0.0026  0.0029   \n",
       "3   -0.0891 -0.0446 -0.0116 -0.0367  0.0122  0.0250 -0.0360  0.0343  0.0227   \n",
       "4    0.0054 -0.0446 -0.0364  0.0219  0.0039  0.0156  0.0081 -0.0026 -0.0320   \n",
       "..      ...     ...     ...     ...     ...     ...     ...     ...     ...   \n",
       "437  0.0417  0.0507  0.0197  0.0597 -0.0057 -0.0026 -0.0287 -0.0026  0.0312   \n",
       "438 -0.0055  0.0507 -0.0159 -0.0676  0.0493  0.0792 -0.0287  0.0343 -0.0181   \n",
       "439  0.0417  0.0507 -0.0159  0.0173 -0.0373 -0.0138 -0.0250 -0.0111 -0.0469   \n",
       "440 -0.0455 -0.0446  0.0391  0.0012  0.0163  0.0153 -0.0287  0.0266  0.0445   \n",
       "441 -0.0455 -0.0446 -0.0730 -0.0814  0.0837  0.0278  0.1738 -0.0395 -0.0042   \n",
       "\n",
       "         s6 target  \n",
       "0   -0.0176  151.0  \n",
       "1   -0.0922   75.0  \n",
       "2   -0.0259  141.0  \n",
       "3   -0.0094  206.0  \n",
       "4   -0.0466  135.0  \n",
       "..      ...    ...  \n",
       "437  0.0072  178.0  \n",
       "438  0.0445  104.0  \n",
       "439  0.0155  132.0  \n",
       "440 -0.0259  220.0  \n",
       "441  0.0031   57.0  \n",
       "\n",
       "[442 rows x 11 columns]"
      ]
     },
     "execution_count": 56,
     "metadata": {},
     "output_type": "execute_result"
    }
   ],
   "source": [
    "df_diabet_trgt"
   ]
  },
  {
   "cell_type": "code",
   "execution_count": 57,
   "id": "833a5bcc",
   "metadata": {},
   "outputs": [
    {
     "data": {
      "text/html": [
       "<div>\n",
       "<style scoped>\n",
       "    .dataframe tbody tr th:only-of-type {\n",
       "        vertical-align: middle;\n",
       "    }\n",
       "\n",
       "    .dataframe tbody tr th {\n",
       "        vertical-align: top;\n",
       "    }\n",
       "\n",
       "    .dataframe thead tr th {\n",
       "        text-align: left;\n",
       "    }\n",
       "</style>\n",
       "<table border=\"1\" class=\"dataframe\">\n",
       "  <thead>\n",
       "    <tr>\n",
       "      <th></th>\n",
       "      <th>age</th>\n",
       "      <th>sex</th>\n",
       "      <th>bmi</th>\n",
       "      <th>bp</th>\n",
       "      <th>s1</th>\n",
       "      <th>s2</th>\n",
       "      <th>s3</th>\n",
       "      <th>s4</th>\n",
       "      <th>s5</th>\n",
       "      <th>s6</th>\n",
       "      <th>target</th>\n",
       "    </tr>\n",
       "  </thead>\n",
       "  <tbody>\n",
       "    <tr>\n",
       "      <th>count</th>\n",
       "      <td>4.4200e+02</td>\n",
       "      <td>4.4200e+02</td>\n",
       "      <td>4.4200e+02</td>\n",
       "      <td>4.4200e+02</td>\n",
       "      <td>4.4200e+02</td>\n",
       "      <td>4.4200e+02</td>\n",
       "      <td>4.4200e+02</td>\n",
       "      <td>4.4200e+02</td>\n",
       "      <td>4.4200e+02</td>\n",
       "      <td>4.4200e+02</td>\n",
       "      <td>442.0000</td>\n",
       "    </tr>\n",
       "    <tr>\n",
       "      <th>mean</th>\n",
       "      <td>-3.6343e-16</td>\n",
       "      <td>1.3083e-16</td>\n",
       "      <td>-8.0453e-16</td>\n",
       "      <td>1.2817e-16</td>\n",
       "      <td>-8.8353e-17</td>\n",
       "      <td>1.3270e-16</td>\n",
       "      <td>-4.5746e-16</td>\n",
       "      <td>3.7773e-16</td>\n",
       "      <td>-3.8309e-16</td>\n",
       "      <td>-3.4129e-16</td>\n",
       "      <td>152.1335</td>\n",
       "    </tr>\n",
       "    <tr>\n",
       "      <th>std</th>\n",
       "      <td>4.7619e-02</td>\n",
       "      <td>4.7619e-02</td>\n",
       "      <td>4.7619e-02</td>\n",
       "      <td>4.7619e-02</td>\n",
       "      <td>4.7619e-02</td>\n",
       "      <td>4.7619e-02</td>\n",
       "      <td>4.7619e-02</td>\n",
       "      <td>4.7619e-02</td>\n",
       "      <td>4.7619e-02</td>\n",
       "      <td>4.7619e-02</td>\n",
       "      <td>77.0930</td>\n",
       "    </tr>\n",
       "    <tr>\n",
       "      <th>min</th>\n",
       "      <td>-1.0723e-01</td>\n",
       "      <td>-4.4642e-02</td>\n",
       "      <td>-9.0275e-02</td>\n",
       "      <td>-1.1240e-01</td>\n",
       "      <td>-1.2678e-01</td>\n",
       "      <td>-1.1561e-01</td>\n",
       "      <td>-1.0231e-01</td>\n",
       "      <td>-7.6395e-02</td>\n",
       "      <td>-1.2610e-01</td>\n",
       "      <td>-1.3777e-01</td>\n",
       "      <td>25.0000</td>\n",
       "    </tr>\n",
       "    <tr>\n",
       "      <th>25%</th>\n",
       "      <td>-3.7299e-02</td>\n",
       "      <td>-4.4642e-02</td>\n",
       "      <td>-3.4229e-02</td>\n",
       "      <td>-3.6656e-02</td>\n",
       "      <td>-3.4248e-02</td>\n",
       "      <td>-3.0358e-02</td>\n",
       "      <td>-3.5117e-02</td>\n",
       "      <td>-3.9493e-02</td>\n",
       "      <td>-3.3249e-02</td>\n",
       "      <td>-3.3179e-02</td>\n",
       "      <td>87.0000</td>\n",
       "    </tr>\n",
       "    <tr>\n",
       "      <th>50%</th>\n",
       "      <td>5.3831e-03</td>\n",
       "      <td>-4.4642e-02</td>\n",
       "      <td>-7.2838e-03</td>\n",
       "      <td>-5.6706e-03</td>\n",
       "      <td>-4.3209e-03</td>\n",
       "      <td>-3.8191e-03</td>\n",
       "      <td>-6.5845e-03</td>\n",
       "      <td>-2.5923e-03</td>\n",
       "      <td>-1.9476e-03</td>\n",
       "      <td>-1.0777e-03</td>\n",
       "      <td>140.5000</td>\n",
       "    </tr>\n",
       "    <tr>\n",
       "      <th>75%</th>\n",
       "      <td>3.8076e-02</td>\n",
       "      <td>5.0680e-02</td>\n",
       "      <td>3.1248e-02</td>\n",
       "      <td>3.5644e-02</td>\n",
       "      <td>2.8358e-02</td>\n",
       "      <td>2.9844e-02</td>\n",
       "      <td>2.9312e-02</td>\n",
       "      <td>3.4309e-02</td>\n",
       "      <td>3.2433e-02</td>\n",
       "      <td>2.7917e-02</td>\n",
       "      <td>211.5000</td>\n",
       "    </tr>\n",
       "    <tr>\n",
       "      <th>max</th>\n",
       "      <td>1.1073e-01</td>\n",
       "      <td>5.0680e-02</td>\n",
       "      <td>1.7056e-01</td>\n",
       "      <td>1.3204e-01</td>\n",
       "      <td>1.5391e-01</td>\n",
       "      <td>1.9879e-01</td>\n",
       "      <td>1.8118e-01</td>\n",
       "      <td>1.8523e-01</td>\n",
       "      <td>1.3360e-01</td>\n",
       "      <td>1.3561e-01</td>\n",
       "      <td>346.0000</td>\n",
       "    </tr>\n",
       "  </tbody>\n",
       "</table>\n",
       "</div>"
      ],
      "text/plain": [
       "              age         sex         bmi          bp          s1          s2  \\\n",
       "count  4.4200e+02  4.4200e+02  4.4200e+02  4.4200e+02  4.4200e+02  4.4200e+02   \n",
       "mean  -3.6343e-16  1.3083e-16 -8.0453e-16  1.2817e-16 -8.8353e-17  1.3270e-16   \n",
       "std    4.7619e-02  4.7619e-02  4.7619e-02  4.7619e-02  4.7619e-02  4.7619e-02   \n",
       "min   -1.0723e-01 -4.4642e-02 -9.0275e-02 -1.1240e-01 -1.2678e-01 -1.1561e-01   \n",
       "25%   -3.7299e-02 -4.4642e-02 -3.4229e-02 -3.6656e-02 -3.4248e-02 -3.0358e-02   \n",
       "50%    5.3831e-03 -4.4642e-02 -7.2838e-03 -5.6706e-03 -4.3209e-03 -3.8191e-03   \n",
       "75%    3.8076e-02  5.0680e-02  3.1248e-02  3.5644e-02  2.8358e-02  2.9844e-02   \n",
       "max    1.1073e-01  5.0680e-02  1.7056e-01  1.3204e-01  1.5391e-01  1.9879e-01   \n",
       "\n",
       "               s3          s4          s5          s6    target  \n",
       "count  4.4200e+02  4.4200e+02  4.4200e+02  4.4200e+02  442.0000  \n",
       "mean  -4.5746e-16  3.7773e-16 -3.8309e-16 -3.4129e-16  152.1335  \n",
       "std    4.7619e-02  4.7619e-02  4.7619e-02  4.7619e-02   77.0930  \n",
       "min   -1.0231e-01 -7.6395e-02 -1.2610e-01 -1.3777e-01   25.0000  \n",
       "25%   -3.5117e-02 -3.9493e-02 -3.3249e-02 -3.3179e-02   87.0000  \n",
       "50%   -6.5845e-03 -2.5923e-03 -1.9476e-03 -1.0777e-03  140.5000  \n",
       "75%    2.9312e-02  3.4309e-02  3.2433e-02  2.7917e-02  211.5000  \n",
       "max    1.8118e-01  1.8523e-01  1.3360e-01  1.3561e-01  346.0000  "
      ]
     },
     "execution_count": 57,
     "metadata": {},
     "output_type": "execute_result"
    }
   ],
   "source": [
    "df_diabet_trgt.describe()"
   ]
  },
  {
   "cell_type": "markdown",
   "id": "3d473b33",
   "metadata": {},
   "source": [
    "### Class Distribution"
   ]
  },
  {
   "cell_type": "code",
   "execution_count": 84,
   "id": "affe4f7b",
   "metadata": {},
   "outputs": [
    {
     "name": "stdout",
     "output_type": "stream",
     "text": [
      "type\n",
      "Danger zone                 250\n",
      "No diabetes                 148\n",
      "Possible future diabetes     44\n",
      "dtype: int64\n"
     ]
    }
   ],
   "source": [
    "conditions = [\n",
    "    (df_trg['target'] <= 100),\n",
    "    (df_trg['target'] > 100) & (df_trg['target'] < 126),\n",
    "    (df_trg['target'] >= 126)]\n",
    "values = ['No diabetes', 'Possible future diabetes', 'Danger zone']\n",
    "df_trg['type'] = np.select(conditions, values)\n",
    "print(df_trg.groupby('type').size())"
   ]
  },
  {
   "cell_type": "markdown",
   "id": "0c5f06fe",
   "metadata": {},
   "source": [
    "### Plot Generation"
   ]
  },
  {
   "cell_type": "code",
   "execution_count": 58,
   "id": "181a4185",
   "metadata": {
    "scrolled": false
   },
   "outputs": [
    {
     "data": {
      "text/plain": [
       "<AxesSubplot:xlabel='None', ylabel='None'>"
      ]
     },
     "execution_count": 58,
     "metadata": {},
     "output_type": "execute_result"
    },
    {
     "data": {
      "image/png": "[encoded data removed]",
      "text/plain": [
       "<Figure size 432x432 with 2 Axes>"
      ]
     },
     "metadata": {
      "needs_background": "light"
     },
     "output_type": "display_data"
    }
   ],
   "source": [
    "corr = df_diabet_trgt.corr()\n",
    "plt.subplots(figsize = (6,6))\n",
    "sns.heatmap(corr)"
   ]
  },
  {
   "cell_type": "code",
   "execution_count": 59,
   "id": "d2f6741d",
   "metadata": {},
   "outputs": [
    {
     "data": {
      "text/plain": [
       "<seaborn.axisgrid.FacetGrid at 0x1d03251f2b0>"
      ]
     },
     "execution_count": 59,
     "metadata": {},
     "output_type": "execute_result"
    },
    {
     "data": {
      "image/png": "[encoded data removed]",
      "text/plain": [
       "<Figure size 426.375x360 with 1 Axes>"
      ]
     },
     "metadata": {
      "needs_background": "light"
     },
     "output_type": "display_data"
    }
   ],
   "source": [
    "sns.displot(df_diabet_trgt['target'])"
   ]
  },
  {
   "cell_type": "markdown",
   "id": "0038f86c",
   "metadata": {},
   "source": [
    "### Feature engineering:\n",
    "as the data were already normalizes by Sklearn, there is no need to interfere "
   ]
  },
  {
   "cell_type": "markdown",
   "id": "ea16d332",
   "metadata": {},
   "source": [
    "### Model Comparison"
   ]
  },
  {
   "cell_type": "code",
   "execution_count": 60,
   "id": "fa0c9e99",
   "metadata": {},
   "outputs": [],
   "source": [
    "from sklearn.model_selection import train_test_split\n",
    "from sklearn.preprocessing import StandardScaler\n",
    "X = df_diabet_trgt.iloc[:,0:10].values\n",
    "Y = df_diabet_trgt.iloc[:,10].values\n",
    "\n",
    "X_train, X_test, Y_train, Y_test = train_test_split(X, Y, test_size = 0.2, random_state = 0)\n",
    "\n",
    "st_c = StandardScaler()\n",
    "X_train = st_c.fit_transform(X_train)\n",
    "X_test = st_c.fit_transform(X_test)"
   ]
  },
  {
   "cell_type": "code",
   "execution_count": 64,
   "id": "5c734fa3",
   "metadata": {},
   "outputs": [
    {
     "name": "stdout",
     "output_type": "stream",
     "text": [
      "Coefficients:  [ -1.72178392 -11.5858913   27.51028594  14.37158187 -31.2253899\n",
      "  15.26838048   1.16951132   8.18473783  35.83959262   2.12310979]\n",
      "Algorithm Score:  0.5539285357415583\n"
     ]
    }
   ],
   "source": [
    "from sklearn import linear_model\n",
    "l_regr = linear_model.LinearRegression()\n",
    "l_regr.fit(X_train, Y_train)\n",
    "print('Coefficients: ', l_regr.coef_)\n",
    "print('Algorithm Score: ', l_regr.score(X_train, Y_train))"
   ]
  },
  {
   "cell_type": "code",
   "execution_count": 67,
   "id": "5cd61fc5",
   "metadata": {},
   "outputs": [
    {
     "name": "stdout",
     "output_type": "stream",
     "text": [
      "Prediction:\n",
      "\n"
     ]
    },
    {
     "data": {
      "text/plain": [
       "array([242.40426759, 260.01726907, 155.68995201, 108.03144619,\n",
       "       180.72614738, 272.61000672, 101.33429097, 189.85735255,\n",
       "       138.69936591, 244.01639791, 166.27738826, 179.75653752,\n",
       "        94.91972952,  75.67074338, 250.72939456,  69.51467069,\n",
       "       144.61851418,  47.42802164,  76.94528815, 217.37039154,\n",
       "       186.78603782, 160.30994508, 156.16290725, 149.19227256,\n",
       "       208.11312274, 170.88263271, 109.35311491,  70.47910835,\n",
       "       191.34045887, 159.83705803, 172.50532217,  64.62681472,\n",
       "       133.39960277, 142.69431792, 142.18998202, 195.9083527 ,\n",
       "       162.20065883, 184.5973999 , 117.44624155, 209.43876654,\n",
       "        69.70775382, 161.46109183, 146.67674927, 184.20580082,\n",
       "       171.99402664,  55.34547915, 139.15172921, 131.02347931,\n",
       "       114.90499454, 235.54121966, 152.61987814,  55.36972401,\n",
       "       142.56156079, 155.54481204, 241.33945366, 172.75675716,\n",
       "       195.48584335, 106.1017019 , 127.38876781, 170.72539175,\n",
       "       218.43822846, 165.87335649, 151.01391503, 100.55924656,\n",
       "       272.92569462, 150.42015516,  66.92296102, 241.09067121,\n",
       "       209.61759951,  37.95784055,  61.48227414, 127.69711207,\n",
       "        97.52392215, 139.59683666, 120.58361568, 188.23616497,\n",
       "        90.60548971, 204.55141693, 227.0517187 , 192.63122585,\n",
       "       144.70203518, 212.05437406,  24.37054722, 209.00300916,\n",
       "        61.33617361,  80.55670824, 141.40724013, 195.30658934,\n",
       "       125.45104377])"
      ]
     },
     "execution_count": 67,
     "metadata": {},
     "output_type": "execute_result"
    }
   ],
   "source": [
    "print('Prediction:\\n')\n",
    "l_regr.fit(X_train, Y_train).predict(X_test)"
   ]
  },
  {
   "cell_type": "code",
   "execution_count": 66,
   "id": "ed919434",
   "metadata": {},
   "outputs": [
    {
     "name": "stdout",
     "output_type": "stream",
     "text": [
      "Mean squared error:  3610.726875655846\n"
     ]
    }
   ],
   "source": [
    "print('Mean squared error: ',np.mean((l_regr.fit(X_train, Y_train).predict(X_test) - Y_test)**2))"
   ]
  },
  {
   "cell_type": "code",
   "execution_count": 74,
   "id": "691b3193",
   "metadata": {},
   "outputs": [
    {
     "data": {
      "text/plain": [
       "<function matplotlib.pyplot.show(close=None, block=None)>"
      ]
     },
     "execution_count": 74,
     "metadata": {},
     "output_type": "execute_result"
    },
    {
     "data": {
      "image/png": "[encoded data removed]",
      "text/plain": [
       "<Figure size 432x432 with 1 Axes>"
      ]
     },
     "metadata": {
      "needs_background": "light"
     },
     "output_type": "display_data"
    }
   ],
   "source": [
    "plt.figure(figsize = (6,6))\n",
    "plt.scatter(Y_test, l_regr.fit(X_train, Y_train).predict(X_test), color = 'black')\n",
    "p1 = max(max(l_regr.fit(X_train, Y_train).predict(X_test)), max(Y_test))\n",
    "p2 = min(min(l_regr.fit(X_train, Y_train).predict(X_test)), min(Y_test))\n",
    "plt.plot([p1,p2],[p1,p2], color = 'red')\n",
    "plt.show"
   ]
  },
  {
   "cell_type": "code",
   "execution_count": 77,
   "id": "d7004032",
   "metadata": {},
   "outputs": [
    {
     "name": "stdout",
     "output_type": "stream",
     "text": [
      "Logistic Regression Training Accuracy:  0.3626062322946176\n"
     ]
    }
   ],
   "source": [
    "from sklearn.linear_model import LogisticRegression\n",
    "log = LogisticRegression(random_state=0)\n",
    "log.fit(X_train, Y_train)\n",
    "\n",
    "print('Logistic Regression Training Accuracy: ', log.score(X_train, Y_train))"
   ]
  },
  {
   "cell_type": "code",
   "execution_count": null,
   "id": "bf0b071b",
   "metadata": {},
   "outputs": [],
   "source": []
  }
 ],
 "metadata": {
  "kernelspec": {
   "display_name": "Python 3",
   "language": "python",
   "name": "python3"
  },
  "language_info": {
   "codemirror_mode": {
    "name": "ipython",
    "version": 3
   },
   "file_extension": ".py",
   "mimetype": "text/x-python",
   "name": "python",
   "nbconvert_exporter": "python",
   "pygments_lexer": "ipython3",
   "version": "3.8.8"
  }
 },
 "nbformat": 4,
 "nbformat_minor": 5
}
