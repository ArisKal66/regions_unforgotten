{
 "cells": [
  {
   "cell_type": "code",
   "execution_count": 44,
   "id": "43bfb993",
   "metadata": {},
   "outputs": [],
   "source": [
    "import numpy as np\n",
    "import pandas as pd\n",
    "import nltk\n",
    "import re #for searching words in a text\n",
    "from nltk.corpus import stopwords #get rid of words with less value (articles, etc.) \n",
    "from nltk.stem.porter import PorterStemmer # important aid for stemming \n",
    "from sklearn.feature_extraction.text import TfidfVectorizer # convert text to feature vectors\n",
    "from sklearn.model_selection import train_test_split \n",
    "from sklearn.linear_model import LogisticRegression\n",
    "from sklearn.metrics import accuracy_score"
   ]
  },
  {
   "cell_type": "markdown",
   "id": "5642ebb0",
   "metadata": {},
   "source": [
    "Data Pre-processing\n",
    "\n",
    "1 : Fake News\n",
    "\n",
    "0 : Real News\n",
    "\n",
    "In this exercise we use the combination of title and author to train our process."
   ]
  },
  {
   "cell_type": "code",
   "execution_count": 45,
   "id": "426c48f0",
   "metadata": {},
   "outputs": [],
   "source": [
    "train_news = pd.read_csv('C:/Users/glama/Machine_Learning_Assignment2/train.csv') "
   ]
  },
  {
   "cell_type": "code",
   "execution_count": 46,
   "id": "4f53b77a",
   "metadata": {
    "scrolled": false
   },
   "outputs": [
    {
     "data": {
      "text/html": [
       "<div>\n",
       "<style scoped>\n",
       "    .dataframe tbody tr th:only-of-type {\n",
       "        vertical-align: middle;\n",
       "    }\n",
       "\n",
       "    .dataframe tbody tr th {\n",
       "        vertical-align: top;\n",
       "    }\n",
       "\n",
       "    .dataframe thead th {\n",
       "        text-align: right;\n",
       "    }\n",
       "</style>\n",
       "<table border=\"1\" class=\"dataframe\">\n",
       "  <thead>\n",
       "    <tr style=\"text-align: right;\">\n",
       "      <th></th>\n",
       "      <th>id</th>\n",
       "      <th>title</th>\n",
       "      <th>author</th>\n",
       "      <th>text</th>\n",
       "      <th>label</th>\n",
       "    </tr>\n",
       "  </thead>\n",
       "  <tbody>\n",
       "    <tr>\n",
       "      <th>0</th>\n",
       "      <td>0</td>\n",
       "      <td>House Dem Aide: We Didn’t Even See Comey’s Let...</td>\n",
       "      <td>Darrell Lucus</td>\n",
       "      <td>House Dem Aide: We Didn’t Even See Comey’s Let...</td>\n",
       "      <td>1</td>\n",
       "    </tr>\n",
       "    <tr>\n",
       "      <th>1</th>\n",
       "      <td>1</td>\n",
       "      <td>FLYNN: Hillary Clinton, Big Woman on Campus - ...</td>\n",
       "      <td>Daniel J. Flynn</td>\n",
       "      <td>Ever get the feeling your life circles the rou...</td>\n",
       "      <td>0</td>\n",
       "    </tr>\n",
       "    <tr>\n",
       "      <th>2</th>\n",
       "      <td>2</td>\n",
       "      <td>Why the Truth Might Get You Fired</td>\n",
       "      <td>Consortiumnews.com</td>\n",
       "      <td>Why the Truth Might Get You Fired October 29, ...</td>\n",
       "      <td>1</td>\n",
       "    </tr>\n",
       "    <tr>\n",
       "      <th>3</th>\n",
       "      <td>3</td>\n",
       "      <td>15 Civilians Killed In Single US Airstrike Hav...</td>\n",
       "      <td>Jessica Purkiss</td>\n",
       "      <td>Videos 15 Civilians Killed In Single US Airstr...</td>\n",
       "      <td>1</td>\n",
       "    </tr>\n",
       "    <tr>\n",
       "      <th>4</th>\n",
       "      <td>4</td>\n",
       "      <td>Iranian woman jailed for fictional unpublished...</td>\n",
       "      <td>Howard Portnoy</td>\n",
       "      <td>Print \\nAn Iranian woman has been sentenced to...</td>\n",
       "      <td>1</td>\n",
       "    </tr>\n",
       "    <tr>\n",
       "      <th>...</th>\n",
       "      <td>...</td>\n",
       "      <td>...</td>\n",
       "      <td>...</td>\n",
       "      <td>...</td>\n",
       "      <td>...</td>\n",
       "    </tr>\n",
       "    <tr>\n",
       "      <th>20795</th>\n",
       "      <td>20795</td>\n",
       "      <td>Rapper T.I.: Trump a ’Poster Child For White S...</td>\n",
       "      <td>Jerome Hudson</td>\n",
       "      <td>Rapper T. I. unloaded on black celebrities who...</td>\n",
       "      <td>0</td>\n",
       "    </tr>\n",
       "    <tr>\n",
       "      <th>20796</th>\n",
       "      <td>20796</td>\n",
       "      <td>N.F.L. Playoffs: Schedule, Matchups and Odds -...</td>\n",
       "      <td>Benjamin Hoffman</td>\n",
       "      <td>When the Green Bay Packers lost to the Washing...</td>\n",
       "      <td>0</td>\n",
       "    </tr>\n",
       "    <tr>\n",
       "      <th>20797</th>\n",
       "      <td>20797</td>\n",
       "      <td>Macy’s Is Said to Receive Takeover Approach by...</td>\n",
       "      <td>Michael J. de la Merced and Rachel Abrams</td>\n",
       "      <td>The Macy’s of today grew from the union of sev...</td>\n",
       "      <td>0</td>\n",
       "    </tr>\n",
       "    <tr>\n",
       "      <th>20798</th>\n",
       "      <td>20798</td>\n",
       "      <td>NATO, Russia To Hold Parallel Exercises In Bal...</td>\n",
       "      <td>Alex Ansary</td>\n",
       "      <td>NATO, Russia To Hold Parallel Exercises In Bal...</td>\n",
       "      <td>1</td>\n",
       "    </tr>\n",
       "    <tr>\n",
       "      <th>20799</th>\n",
       "      <td>20799</td>\n",
       "      <td>What Keeps the F-35 Alive</td>\n",
       "      <td>David Swanson</td>\n",
       "      <td>David Swanson is an author, activist, journa...</td>\n",
       "      <td>1</td>\n",
       "    </tr>\n",
       "  </tbody>\n",
       "</table>\n",
       "<p>20800 rows × 5 columns</p>\n",
       "</div>"
      ],
      "text/plain": [
       "          id                                              title  \\\n",
       "0          0  House Dem Aide: We Didn’t Even See Comey’s Let...   \n",
       "1          1  FLYNN: Hillary Clinton, Big Woman on Campus - ...   \n",
       "2          2                  Why the Truth Might Get You Fired   \n",
       "3          3  15 Civilians Killed In Single US Airstrike Hav...   \n",
       "4          4  Iranian woman jailed for fictional unpublished...   \n",
       "...      ...                                                ...   \n",
       "20795  20795  Rapper T.I.: Trump a ’Poster Child For White S...   \n",
       "20796  20796  N.F.L. Playoffs: Schedule, Matchups and Odds -...   \n",
       "20797  20797  Macy’s Is Said to Receive Takeover Approach by...   \n",
       "20798  20798  NATO, Russia To Hold Parallel Exercises In Bal...   \n",
       "20799  20799                          What Keeps the F-35 Alive   \n",
       "\n",
       "                                          author  \\\n",
       "0                                  Darrell Lucus   \n",
       "1                                Daniel J. Flynn   \n",
       "2                             Consortiumnews.com   \n",
       "3                                Jessica Purkiss   \n",
       "4                                 Howard Portnoy   \n",
       "...                                          ...   \n",
       "20795                              Jerome Hudson   \n",
       "20796                           Benjamin Hoffman   \n",
       "20797  Michael J. de la Merced and Rachel Abrams   \n",
       "20798                                Alex Ansary   \n",
       "20799                              David Swanson   \n",
       "\n",
       "                                                    text  label  \n",
       "0      House Dem Aide: We Didn’t Even See Comey’s Let...      1  \n",
       "1      Ever get the feeling your life circles the rou...      0  \n",
       "2      Why the Truth Might Get You Fired October 29, ...      1  \n",
       "3      Videos 15 Civilians Killed In Single US Airstr...      1  \n",
       "4      Print \\nAn Iranian woman has been sentenced to...      1  \n",
       "...                                                  ...    ...  \n",
       "20795  Rapper T. I. unloaded on black celebrities who...      0  \n",
       "20796  When the Green Bay Packers lost to the Washing...      0  \n",
       "20797  The Macy’s of today grew from the union of sev...      0  \n",
       "20798  NATO, Russia To Hold Parallel Exercises In Bal...      1  \n",
       "20799    David Swanson is an author, activist, journa...      1  \n",
       "\n",
       "[20800 rows x 5 columns]"
      ]
     },
     "execution_count": 46,
     "metadata": {},
     "output_type": "execute_result"
    }
   ],
   "source": [
    "train_news"
   ]
  },
  {
   "cell_type": "code",
   "execution_count": 47,
   "id": "8568c298",
   "metadata": {},
   "outputs": [
    {
     "data": {
      "text/plain": [
       "id           0\n",
       "title      558\n",
       "author    1957\n",
       "text        39\n",
       "label        0\n",
       "dtype: int64"
      ]
     },
     "execution_count": 47,
     "metadata": {},
     "output_type": "execute_result"
    }
   ],
   "source": [
    "train_news.isnull().sum()"
   ]
  },
  {
   "cell_type": "code",
   "execution_count": 48,
   "id": "05e23076",
   "metadata": {},
   "outputs": [],
   "source": [
    "train_news = train_news.fillna('')"
   ]
  },
  {
   "cell_type": "code",
   "execution_count": 49,
   "id": "042ec290",
   "metadata": {},
   "outputs": [
    {
     "data": {
      "text/plain": [
       "413"
      ]
     },
     "execution_count": 49,
     "metadata": {},
     "output_type": "execute_result"
    }
   ],
   "source": [
    "train_news.duplicated(subset=[\"text\"]).sum()"
   ]
  },
  {
   "cell_type": "code",
   "execution_count": 50,
   "id": "1576e835",
   "metadata": {},
   "outputs": [
    {
     "data": {
      "text/plain": [
       "(20387, 5)"
      ]
     },
     "execution_count": 50,
     "metadata": {},
     "output_type": "execute_result"
    }
   ],
   "source": [
    "train_news = train_news.drop_duplicates(subset={\"text\"}, keep='first', inplace=False)\n",
    "train_news.shape"
   ]
  },
  {
   "cell_type": "code",
   "execution_count": 51,
   "id": "190a37ec",
   "metadata": {},
   "outputs": [],
   "source": [
    "train_news['author_title_concat'] = train_news['author'] + ' ' + train_news['title'] "
   ]
  },
  {
   "cell_type": "markdown",
   "id": "2eef9c5c",
   "metadata": {},
   "source": [
    "Stemming: the process of reducing a word to its root word. Better performance of our model"
   ]
  },
  {
   "cell_type": "code",
   "execution_count": 52,
   "id": "26a03f0e",
   "metadata": {},
   "outputs": [],
   "source": [
    "def stemm(author_title_concat):\n",
    "    #keeps only alphabetic characters, removing any symbols nubers etc.\n",
    "    stemmed_atc = re.sub('[^a-zA-Z]', ' ', author_title_concat)\n",
    "    #keep only lower case, convert upper case chars in concated text\n",
    "    stemmed_atc = stemmed_atc.lower()\n",
    "    #converts test string into a list, default separator is ' '\n",
    "    stemmed_atc = stemmed_atc.split() \n",
    "    #finally stemming the created lists after removing stopwords\n",
    "    stemmed_atc = [PorterStemmer().stem(word) for word in stemmed_atc if not word in stopwords.words('English')]\n",
    "    #converting the edited lists back into a string separated by ' '\n",
    "    stemmed_atc = ' '.join(stemmed_atc)\n",
    "    return stemmed_atc"
   ]
  },
  {
   "cell_type": "code",
   "execution_count": 53,
   "id": "f9df0180",
   "metadata": {},
   "outputs": [],
   "source": [
    "train_news['author_title_concat'] = train_news['author_title_concat'].apply(stemm)"
   ]
  },
  {
   "cell_type": "code",
   "execution_count": 54,
   "id": "a9bb9496",
   "metadata": {},
   "outputs": [],
   "source": [
    "train_no_label = train_news.drop(columns = 'label', axis = 'columns') #axis to drop whole column, not only its data\n",
    "only_labels = train_news['label'] \n",
    "values_text = train_no_label['author_title_concat'].values\n",
    "values_labels = only_labels.values"
   ]
  },
  {
   "cell_type": "code",
   "execution_count": 55,
   "id": "6fcb2669",
   "metadata": {},
   "outputs": [],
   "source": [
    "#Using Tfid vectorizer, converting text to numeric vectors\n",
    "vectorizer = TfidfVectorizer()\n",
    "vectorizer.fit(values_text)\n",
    "values_text = vectorizer.transform(values_text)"
   ]
  },
  {
   "cell_type": "markdown",
   "id": "cc05b70a",
   "metadata": {},
   "source": [
    "Train and Test data split"
   ]
  },
  {
   "cell_type": "code",
   "execution_count": 56,
   "id": "244a833a",
   "metadata": {},
   "outputs": [],
   "source": [
    "values_text_train, values_text_test, values_labels_train, values_labels_test = train_test_split(values_text,values_labels,\n",
    "                                                                                                test_size = 0.2,\n",
    "                                                                                                stratify = values_labels,\n",
    "                                                                                                random_state = 6)\n",
    "# random_state = 6 to produce the same results across different calls\n",
    "# stratify = values_labels data is split in a stratified fashion, using this as the class labels"
   ]
  },
  {
   "cell_type": "markdown",
   "id": "ca272f94",
   "metadata": {},
   "source": [
    "Logistic Regression Training:"
   ]
  },
  {
   "cell_type": "code",
   "execution_count": 57,
   "id": "7f152675",
   "metadata": {},
   "outputs": [
    {
     "data": {
      "text/plain": [
       "LogisticRegression()"
      ]
     },
     "execution_count": 57,
     "metadata": {},
     "output_type": "execute_result"
    }
   ],
   "source": [
    "LogReg_model = LogisticRegression() \n",
    "LogReg_model.fit(values_text_train, values_labels_train)"
   ]
  },
  {
   "cell_type": "code",
   "execution_count": 58,
   "id": "b3c1df7e",
   "metadata": {},
   "outputs": [
    {
     "name": "stdout",
     "output_type": "stream",
     "text": [
      "Logistic Regression Training Accuracy: 0.9866331473419584\n"
     ]
    }
   ],
   "source": [
    "news_train_pred = LogReg_model.predict(values_text_train) \n",
    "training_accuracy = accuracy_score(news_train_pred, values_labels_train)\n",
    "print(f'Logistic Regression Training Accuracy: {training_accuracy}')"
   ]
  },
  {
   "cell_type": "markdown",
   "id": "63448ecc",
   "metadata": {},
   "source": [
    "Logistic Regression Test:"
   ]
  },
  {
   "cell_type": "code",
   "execution_count": 59,
   "id": "638ae2cb",
   "metadata": {},
   "outputs": [
    {
     "name": "stdout",
     "output_type": "stream",
     "text": [
      "Logistic Regression Testing Accuracy: 0.976213830308975\n"
     ]
    }
   ],
   "source": [
    "news_test_pred = LogReg_model.predict(values_text_test) \n",
    "testing_accuracy = accuracy_score(news_test_pred, values_labels_test)\n",
    "print(f'Logistic Regression Testing Accuracy: {testing_accuracy}')"
   ]
  },
  {
   "cell_type": "code",
   "execution_count": 60,
   "id": "0d65f833",
   "metadata": {},
   "outputs": [
    {
     "name": "stdout",
     "output_type": "stream",
     "text": [
      "[[1995   83]\n",
      " [  14 1986]]\n",
      "Logistic Regression Testing Acc.: =  0.976213830308975\n"
     ]
    }
   ],
   "source": [
    "from sklearn.metrics import confusion_matrix\n",
    "c_matrix_lr = confusion_matrix(values_labels_test, news_test_pred)\n",
    "\n",
    "Tr_Pos = c_matrix_lr[0][0]\n",
    "Tr_Neg = c_matrix_lr[1][1]\n",
    "F_Pos = c_matrix_lr[0][1]\n",
    "F_Neg = c_matrix_lr[1][0]\n",
    "\n",
    "print(c_matrix_lr)\n",
    "print('Logistic Regression Testing Acc.: = ', (Tr_Pos + Tr_Neg)/(Tr_Pos + Tr_Neg + F_Pos + F_Neg))"
   ]
  },
  {
   "cell_type": "markdown",
   "id": "dc028b1d",
   "metadata": {},
   "source": [
    "Decision Tree Classifier Training:"
   ]
  },
  {
   "cell_type": "code",
   "execution_count": 61,
   "id": "a9d0b5b5",
   "metadata": {},
   "outputs": [
    {
     "data": {
      "text/plain": [
       "DecisionTreeClassifier(criterion='entropy', random_state=0)"
      ]
     },
     "execution_count": 61,
     "metadata": {},
     "output_type": "execute_result"
    }
   ],
   "source": [
    "from sklearn.tree import DecisionTreeClassifier\n",
    "tree = DecisionTreeClassifier(criterion = 'entropy', random_state = 0)\n",
    "tree.fit(values_text_train, values_labels_train)"
   ]
  },
  {
   "cell_type": "code",
   "execution_count": 62,
   "id": "c7fb0c14",
   "metadata": {},
   "outputs": [
    {
     "name": "stdout",
     "output_type": "stream",
     "text": [
      "Decision Tree Classifier Training Accuracy: 1.0\n"
     ]
    }
   ],
   "source": [
    "news_train_pred_1 = tree.predict(values_text_train) \n",
    "training_accuracy_1 = accuracy_score(news_train_pred_1, values_labels_train)\n",
    "print(f'Decision Tree Classifier Training Accuracy: {training_accuracy_1}')"
   ]
  },
  {
   "cell_type": "markdown",
   "id": "2af0b7de",
   "metadata": {},
   "source": [
    "Decision Tree Classifier Test:"
   ]
  },
  {
   "cell_type": "code",
   "execution_count": 63,
   "id": "1b9c8d01",
   "metadata": {},
   "outputs": [
    {
     "name": "stdout",
     "output_type": "stream",
     "text": [
      "Decision Tree Classifier Testing Accuracy: 0.9931338891613536\n"
     ]
    }
   ],
   "source": [
    "news_test_pred_1 = tree.predict(values_text_test) \n",
    "testing_accuracy_1 = accuracy_score(news_test_pred_1, values_labels_test)\n",
    "print(f'Decision Tree Classifier Testing Accuracy: {testing_accuracy_1}')"
   ]
  },
  {
   "cell_type": "code",
   "execution_count": 64,
   "id": "fbaf7fe5",
   "metadata": {},
   "outputs": [
    {
     "name": "stdout",
     "output_type": "stream",
     "text": [
      "[[2062   16]\n",
      " [  12 1988]]\n",
      "Decision Tree Classifier Testing Acc.: =  0.9931338891613536\n"
     ]
    }
   ],
   "source": [
    "c_matrix_dt = confusion_matrix(values_labels_test, news_test_pred_1)\n",
    "\n",
    "Tr_Pos = c_matrix_dt[0][0]\n",
    "Tr_Neg = c_matrix_dt[1][1]\n",
    "F_Pos = c_matrix_dt[0][1]\n",
    "F_Neg = c_matrix_dt[1][0]\n",
    "\n",
    "print(c_matrix_dt)\n",
    "print('Decision Tree Classifier Testing Acc.: = ', (Tr_Pos + Tr_Neg)/(Tr_Pos + Tr_Neg + F_Pos + F_Neg))"
   ]
  },
  {
   "cell_type": "markdown",
   "id": "84e75194",
   "metadata": {},
   "source": [
    "Random Forest Classifier Training:"
   ]
  },
  {
   "cell_type": "code",
   "execution_count": 65,
   "id": "cc9100d4",
   "metadata": {},
   "outputs": [
    {
     "data": {
      "text/plain": [
       "RandomForestClassifier(criterion='entropy', n_estimators=10, random_state=0)"
      ]
     },
     "execution_count": 65,
     "metadata": {},
     "output_type": "execute_result"
    }
   ],
   "source": [
    "from sklearn.ensemble import RandomForestClassifier\n",
    "forest = RandomForestClassifier(n_estimators = 10, criterion = 'entropy', random_state = 0)\n",
    "forest.fit(values_text_train, values_labels_train)"
   ]
  },
  {
   "cell_type": "code",
   "execution_count": 66,
   "id": "ed6ecd5a",
   "metadata": {},
   "outputs": [
    {
     "name": "stdout",
     "output_type": "stream",
     "text": [
      "Random Forest Classifier Training Accuracy: 0.9995707891348335\n"
     ]
    }
   ],
   "source": [
    "news_train_pred_2 = forest.predict(values_text_train) \n",
    "training_accuracy_2 = accuracy_score(news_train_pred_2, values_labels_train)\n",
    "print(f'Random Forest Classifier Training Accuracy: {training_accuracy_2}')"
   ]
  },
  {
   "cell_type": "markdown",
   "id": "8c9af516",
   "metadata": {},
   "source": [
    "Random Forest Classifier Testing:"
   ]
  },
  {
   "cell_type": "code",
   "execution_count": 67,
   "id": "bbe003e3",
   "metadata": {},
   "outputs": [
    {
     "name": "stdout",
     "output_type": "stream",
     "text": [
      "Random Forest Classifier Testing Accuracy: 0.986758214811182\n"
     ]
    }
   ],
   "source": [
    "news_test_pred_2 = forest.predict(values_text_test) \n",
    "testing_accuracy_2 = accuracy_score(news_test_pred_2, values_labels_test)\n",
    "print(f'Random Forest Classifier Testing Accuracy: {testing_accuracy_2}')"
   ]
  },
  {
   "cell_type": "code",
   "execution_count": 68,
   "id": "e8ba4fec",
   "metadata": {},
   "outputs": [
    {
     "name": "stdout",
     "output_type": "stream",
     "text": [
      "[[2048   30]\n",
      " [  24 1976]]\n",
      "Random Forest Classifier Testing Acc.: =  0.986758214811182\n"
     ]
    }
   ],
   "source": [
    "c_matrix_rf = confusion_matrix(values_labels_test, news_test_pred_2)\n",
    "\n",
    "Tr_Pos = c_matrix_rf[0][0]\n",
    "Tr_Neg = c_matrix_rf[1][1]\n",
    "F_Pos = c_matrix_rf[0][1]\n",
    "F_Neg = c_matrix_rf[1][0]\n",
    "\n",
    "print(c_matrix_rf)\n",
    "print('Random Forest Classifier Testing Acc.: = ', (Tr_Pos + Tr_Neg)/(Tr_Pos + Tr_Neg + F_Pos + F_Neg))"
   ]
  }
 ],
 "metadata": {
  "kernelspec": {
   "display_name": "Python 3",
   "language": "python",
   "name": "python3"
  },
  "language_info": {
   "codemirror_mode": {
    "name": "ipython",
    "version": 3
   },
   "file_extension": ".py",
   "mimetype": "text/x-python",
   "name": "python",
   "nbconvert_exporter": "python",
   "pygments_lexer": "ipython3",
   "version": "3.8.8"
  }
 },
 "nbformat": 4,
 "nbformat_minor": 5
}
